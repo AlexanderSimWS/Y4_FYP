{
 "cells": [
  {
   "attachments": {},
   "cell_type": "markdown",
   "metadata": {},
   "source": [
    "# Mathematical Framework\n",
    "### Model Assumptions:\n",
    "1. Gene cassettes are in a plasmid and there are no long-range structural interactions.\n",
    "2. There are no side reactions between species.\n",
    "3. Geneandpromoterconcentrationisassumedtocontributeanegligibleimpactontheexpression\n",
    "of the gene and are therefore modelled as constant.\n",
    "1. Concentrations of RNAP and ribosome are relatively low.\n",
    "2. The behaviour of the system can be approximated by the quasi-steady state (QSS) assumption.\n",
    "3. The timescale of the system is short therefore dilution effects on mRNA can be absorbed into\n",
    "the mRNA decay rate.\n",
    "1. There is no degradation of protein (although it can be easily added to the dilution term).\n",
    "2. Growth rate is constant to model the average rate of dilution.\n",
    "3. Each promoter can only be activated or repressed by one TF of varying cooperativities.\n",
    "4.  Combinatorial promoters exhibit competitive binding of TFs but only can only bind to one activator and one repressor (although it can be extended).\n",
    "5.  There is assumed to be no ”leakiness” to minimise the number of parameters.\n",
    "\n",
    "## Model Processes\n",
    "This is a node, $i$. The 'gene' is a whole gene expression cassette which includes the actual gene sequence and regulatory sequences like the promoter, RBS and terminator.\n",
    "<pre>\n",
    "        1. Transcription       2. Translation  \n",
    "               (TX)                 (TL)  \n",
    "+------------+       +------------+       +------------+  \n",
    "|            |       |            |       |            |  \n",
    "|  Gene, g   +--+--> |   mRNA, m  +--+--> | Protein, x |  \n",
    "|            |  |    |            |  |    |            |  \n",
    "+------------+  |    +------------+  |    +------------+  \n",
    "                |                    |  \n",
    "              RNAP, [p]            Ribosome, [r]  \n",
    "              + [ATP]              + [ATP]  \n",
    "</pre>\n",
    "\n",
    "- We will make use of the Catalyst.jl package to visualise chemical reaction equations"
   ]
  },
  {
   "cell_type": "code",
   "execution_count": null,
   "metadata": {},
   "outputs": [],
   "source": [
    "using Catalyst, Latexify"
   ]
  },
  {
   "attachments": {},
   "cell_type": "markdown",
   "metadata": {},
   "source": [
    "## Modelling Transcription\n",
    "Transcription from the gene, $g_i$ to the mRNA $m_i$.\n"
   ]
  },
  {
   "cell_type": "code",
   "execution_count": 6,
   "metadata": {},
   "outputs": [
    {
     "data": {
      "text/latex": [
       "\\begin{align*}\n",
       "\\mathrm{g_1} + \\mathrm{p} &\\xrightleftharpoons[k1^-_1]{k1^+_1} \\mathrm{C_1} \\\\\n",
       "\\mathrm{C_i} &\\xrightarrow{k1\\theta_1} \\mathrm{g_1} + \\mathrm{p} + \\mathrm{m_1} \\\\\n",
       "\\mathrm{m_1} &\\xrightarrow{\\delta_1} \\varnothing  \n",
       " \\end{align*}\n"
      ],
      "text/plain": [
       "L\"\\begin{align*}\n",
       "\\mathrm{g_1} + \\mathrm{p} &\\xrightleftharpoons[k1^-_1]{k1^+_1} \\mathrm{C_1} \\\\\n",
       "\\mathrm{C_i} &\\xrightarrow{k1\\theta_1} \\mathrm{g_1} + \\mathrm{p} + \\mathrm{m_1} \\\\\n",
       "\\mathrm{m_1} &\\xrightarrow{\\delta_1} \\varnothing  \n",
       " \\end{align*}\n",
       "\""
      ]
     },
     "metadata": {},
     "output_type": "display_data"
    }
   ],
   "source": [
    "\n",
    "node_1₁ = @reaction_network begin\n",
    "    (k1⁺₁, k1⁻₁), g₁ + p <--> C₁ # Gene 1 binds with RNA polymerase to form the intermediate complex in a reversible reaction\n",
    "    (k1θ₁), Cᵢ --> g₁ + p + m₁ # The intermediate complex reforms gene 1 and RNAP after transcription and mRNA 1 is formed\n",
    "    (δ₁), m₁ --> ∅ # mRNA 1 decays at a rate δ₁\n",
    "end\n",
    "\n",
    "latexify(node_1)"
   ]
  },
  {
   "attachments": {},
   "cell_type": "markdown",
   "metadata": {},
   "source": [
    "## Modelling Translation\n",
    "Translation of the mRNA, $m_i$, to the protein $x_i$"
   ]
  },
  {
   "cell_type": "code",
   "execution_count": 7,
   "metadata": {},
   "outputs": [
    {
     "data": {
      "text/latex": [
       "$$ \\begin{align*}\n",
       "\\mathrm{m_2} + \\mathrm{p} &\\xrightleftharpoons[k1^-_2]{k1^+_2} \\mathrm{X_2} \\\\\n",
       "\\mathrm{C_2} &\\xrightarrow{k1\\theta_2} \\mathrm{m_2} + \\mathrm{p} + \\mathrm{x_2} \\\\\n",
       "\\mathrm{x_2} &\\xrightarrow{\\lambda} \\varnothing  \n",
       " \\end{align*}\n",
       " $$"
      ],
      "text/plain": [
       "\u001b[0m\u001b[1mModel ##ReactionSystem#337\u001b[22m\n",
       "\u001b[0m\u001b[1mStates (5):\u001b[22m\n",
       "  m₂(t)\n",
       "  p(t)\n",
       "  X₂(t)\n",
       "  C₂(t)\n",
       "⋮\n",
       "\u001b[0m\u001b[1mParameters (4):\u001b[22m\n",
       "  k1⁺₂\n",
       "  k1⁻₂\n",
       "  k1θ₂\n",
       "  λ"
      ]
     },
     "metadata": {},
     "output_type": "display_data"
    }
   ],
   "source": [
    "node_1₂ = @reaction_network begin\n",
    "    (k2⁺₁, k2⁻₁), m₁ + r <--> X₁ # mRNA 1 binds with a ribosome to form the intermediate complex in a reversible reaction\n",
    "    (k2θ₁), C --> m₁ + r + x₁ # The intermediate complex reforms mRNA 1 and the ribosome after translation and protein 1 is formed\n",
    "    (λ), x₁ --> ∅ # Protein 1 decays at a rate λ\n",
    "end"
   ]
  },
  {
   "attachments": {},
   "cell_type": "markdown",
   "metadata": {},
   "source": [
    "## Modelling Resource Coupling\n",
    "Use of effective rate constants from [Characterisation and mitigation of gene expression burden in mammalian cells](https://www.nature.com/articles/s41467-020-18392-x) by Frei. *et al*.\n",
    "\n",
    "Due to transcription and translation having a similar form, we can derive a net rate constant for both of them. First, we make some simplifications in notation:\n",
    "\\begin{align}\n",
    "        k_{i}^+ &\\in \\{k_{1;i}^+, k_{2;i}^+\\}\\\\\n",
    "        k_{i}^- &\\in \\{k_{1;i}^-, k_{2;i}^-\\}\\\\\n",
    "        k_{i}^\\theta &\\in \\{k_{1;i}^\\theta, k_{2;i}^\\theta\\}\n",
    "\\end{align}\n",
    "\n",
    "Now we define the binding constant:\n",
    "\\begin{align}\n",
    "        k^m_i &= \\frac{k_{i}^+}{k_{i}^- + k^{\\theta}_{i}} \\\\\n",
    "        k^m_i &\\in \\{k^m_{1;i}, k^m_{2;i}\\}\n",
    "\\end{align}\n",
    "\n",
    "With some derivations we find the effective rate constant:\n",
    "\\begin{align}\n",
    "        k_{\\text{eff}, i} &= \\frac{k_{i}^{\\theta} \\cdot k^{m}_{i} \\cdot R_T}{{1 + \\sum_j k^{m}_{j} \\cdot A_j}} \\\\\n",
    "        k_{\\text{eff}, i} &\\in \\{k_{\\text{eff, 1};i} k_{\\text{eff, 2};i}\\}\n",
    "\\end{align}\n",
    "\n",
    "This is the net rate of the production of product $B_i \\in \\{m_i, x_i\\}$ from substrate $A_i \\in \\{g_i, m_i\\}$\n",
    "\n",
    "Therefore, transcription and translation reactions take the form:"
   ]
  },
  {
   "cell_type": "code",
   "execution_count": 12,
   "metadata": {},
   "outputs": [
    {
     "data": {
      "text/latex": [
       "\\begin{align*}\n",
       "\\mathrm{A_i} &\\xrightarrow{k_{eff}} \\mathrm{B_i} \\\\\n",
       "\\mathrm{A_i} &\\xrightarrow{\\delta} \\varnothing  \n",
       " \\end{align*}\n"
      ],
      "text/plain": [
       "L\"\\begin{align*}\n",
       "\\mathrm{A_i} &\\xrightarrow{k_{eff}} \\mathrm{B_i} \\\\\n",
       "\\mathrm{A_i} &\\xrightarrow{\\delta} \\varnothing  \n",
       " \\end{align*}\n",
       "\""
      ]
     },
     "metadata": {},
     "output_type": "display_data"
    }
   ],
   "source": [
    "eff_rxn = @reaction_network begin\n",
    "    (k_eff), Aᵢ --> Bᵢ\n",
    "    (δ), Aᵢ --> ∅\n",
    "end\n",
    "\n",
    "latexify(eff_rxn)"
   ]
  },
  {
   "attachments": {},
   "cell_type": "markdown",
   "metadata": {},
   "source": [
    "## Modelling Regulatory Interactions\n",
    "Regulatory interactions"
   ]
  },
  {
   "cell_type": "code",
   "execution_count": null,
   "metadata": {},
   "outputs": [],
   "source": []
  },
  {
   "cell_type": "code",
   "execution_count": null,
   "metadata": {},
   "outputs": [],
   "source": []
  },
  {
   "cell_type": "code",
   "execution_count": null,
   "metadata": {},
   "outputs": [],
   "source": []
  },
  {
   "attachments": {},
   "cell_type": "markdown",
   "metadata": {},
   "source": []
  }
 ],
 "metadata": {
  "kernelspec": {
   "display_name": "Julia 1.8.2",
   "language": "julia",
   "name": "julia-1.8"
  },
  "language_info": {
   "file_extension": ".jl",
   "mimetype": "application/julia",
   "name": "julia",
   "version": "1.8.2"
  },
  "orig_nbformat": 4
 },
 "nbformat": 4,
 "nbformat_minor": 2
}
