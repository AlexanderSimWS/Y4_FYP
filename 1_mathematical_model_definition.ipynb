{
 "cells": [
  {
   "cell_type": "code",
   "execution_count": null,
   "metadata": {},
   "outputs": [],
   "source": []
  },
  {
   "attachments": {},
   "cell_type": "markdown",
   "metadata": {},
   "source": [
    "# Mathematical Framework\n",
    "Model Assumptions:\n",
    "1. Gene cassettes are in a plasmid and there are no long-range structural interactions.\n",
    "2. There are no side reactions between species.\n",
    "3. Geneandpromoterconcentrationisassumedtocontributeanegligibleimpactontheexpression\n",
    "of the gene[20] and are therefore modelled as constant.\n",
    "1. Concentrations of RNAP and ribosome are relatively low[9]\n",
    "2. The behaviour of the system can be approximated by the quasi-steady state (QSS) assumption.\n",
    "3. The timescale of the system is short therefore dilution effects on mRNA can be absorbed into\n",
    "the mRNA decay rate[9].\n",
    "1. There is no degradation of protein (although it can be easily added to the dilution term).\n",
    "2. Growth rate is constant to model the average rate of dilution.\n",
    "3. Each promoter can only be activated or repressed by one TF of varying cooperativities.\n",
    "4.  Combinatorial promoters exhibit competitive binding of TFs but only can only bind to one activator and one repressor (although it can be extended).\n",
    "5.  There is assumed to be no ”leakiness” to minimise the number of parameters.\n",
    "## Ta"
   ]
  }
 ],
 "metadata": {
  "kernelspec": {
   "display_name": "Julia 1.8.2",
   "language": "julia",
   "name": "julia-1.8"
  },
  "language_info": {
   "file_extension": ".jl",
   "mimetype": "application/julia",
   "name": "julia",
   "version": "1.8.2"
  },
  "orig_nbformat": 4
 },
 "nbformat": 4,
 "nbformat_minor": 2
}
