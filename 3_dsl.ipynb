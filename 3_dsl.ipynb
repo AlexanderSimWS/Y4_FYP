{
 "cells": [
  {
   "cell_type": "code",
   "execution_count": null,
   "metadata": {},
   "outputs": [],
   "source": []
  },
  {
   "cell_type": "code",
   "execution_count": null,
   "metadata": {
    "vscode": {
     "languageId": "julia"
    }
   },
   "outputs": [],
   "source": [
    "using Catalyst, Latexify, LaTeXStrings"
   ]
  },
  {
   "cell_type": "code",
   "execution_count": null,
   "metadata": {
    "vscode": {
     "languageId": "julia"
    }
   },
   "outputs": [
    {
     "data": {
      "text/latex": [
       "\\begin{align*}\n",
       "\\mathrm{g_1} + \\mathrm{p} &\\xrightleftharpoons[k1^-_1]{k1^+_1} \\mathrm{C_1} \\\\\n",
       "\\mathrm{C_i} &\\xrightarrow{k1\\theta_1} \\mathrm{g_1} + \\mathrm{p} + \\mathrm{m_1} \\\\\n",
       "\\mathrm{m_1} &\\xrightarrow{\\delta_1} \\varnothing  \n",
       " \\end{align*}\n"
      ],
      "text/plain": [
       "L\"\\begin{align*}\n",
       "\\mathrm{g_1} + \\mathrm{p} &\\xrightleftharpoons[k1^-_1]{k1^+_1} \\mathrm{C_1} \\\\\n",
       "\\mathrm{C_i} &\\xrightarrow{k1\\theta_1} \\mathrm{g_1} + \\mathrm{p} + \\mathrm{m_1} \\\\\n",
       "\\mathrm{m_1} &\\xrightarrow{\\delta_1} \\varnothing  \n",
       " \\end{align*}\n",
       "\""
      ]
     },
     "metadata": {},
     "output_type": "display_data"
    }
   ],
   "source": [
    "\n",
    "node_1₁ = @reaction_network begin\n",
    "    (k1⁺₁, k1⁻₁), g₁ + p <--> C₁ # Gene 1 binds with RNA polymerase to form the intermediate complex in a reversible reaction\n",
    "    (k1θ₁), Cᵢ --> g₁ + p + m₁ # The intermediate complex reforms gene 1 and RNAP after transcription and mRNA 1 is formed\n",
    "    (δ₁), m₁ --> ∅ # mRNA 1 decays at a rate δ₁\n",
    "end\n",
    "\n",
    "latexify(node_1)"
   ]
  },
  {
   "cell_type": "code",
   "execution_count": null,
   "metadata": {
    "vscode": {
     "languageId": "julia"
    }
   },
   "outputs": [
    {
     "data": {
      "text/latex": [
       "$$ \\begin{align*}\n",
       "\\mathrm{m_2} + \\mathrm{p} &\\xrightleftharpoons[k1^-_2]{k1^+_2} \\mathrm{X_2} \\\\\n",
       "\\mathrm{C_2} &\\xrightarrow{k1\\theta_2} \\mathrm{m_2} + \\mathrm{p} + \\mathrm{x_2} \\\\\n",
       "\\mathrm{x_2} &\\xrightarrow{\\lambda} \\varnothing  \n",
       " \\end{align*}\n",
       " $$"
      ],
      "text/plain": [
       "\u001b[0m\u001b[1mModel ##ReactionSystem#337\u001b[22m\n",
       "\u001b[0m\u001b[1mStates (5):\u001b[22m\n",
       "  m₂(t)\n",
       "  p(t)\n",
       "  X₂(t)\n",
       "  C₂(t)\n",
       "⋮\n",
       "\u001b[0m\u001b[1mParameters (4):\u001b[22m\n",
       "  k1⁺₂\n",
       "  k1⁻₂\n",
       "  k1θ₂\n",
       "  λ"
      ]
     },
     "metadata": {},
     "output_type": "display_data"
    }
   ],
   "source": [
    "node_1₂ = @reaction_network begin\n",
    "    (k2⁺₁, k2⁻₁), m₁ + r <--> X₁ # mRNA 1 binds with a ribosome to form the intermediate complex in a reversible reaction\n",
    "    (k2θ₁), C --> m₁ + r + x₁ # The intermediate complex reforms mRNA 1 and the ribosome after translation and protein 1 is formed\n",
    "    (λ), x₁ --> ∅ # Protein 1 decays at a rate λ\n",
    "end"
   ]
  },
  {
   "cell_type": "code",
   "execution_count": null,
   "metadata": {
    "vscode": {
     "languageId": "julia"
    }
   },
   "outputs": [
    {
     "name": "stdout",
     "output_type": "stream",
     "text": [
      "\\begin{align*}\n",
      "\\mathrm{m_2} + \\mathrm{p} &\\xrightleftharpoons[k1^-_2]{k1^+_2} \\mathrm{X_2} \\\\\n",
      "\\mathrm{C_2} &\\xrightarrow{k1\\theta_2} \\mathrm{m_2} + \\mathrm{p} + \\mathrm{x_2} \\\\\n",
      "\\mathrm{x_2} &\\xrightarrow{\\lambda} \\varnothing  \n",
      " \\end{align*}\n",
      "\n"
     ]
    }
   ],
   "source": [
    "println((latexify(node_1₂)))"
   ]
  },
  {
   "cell_type": "code",
   "execution_count": null,
   "metadata": {
    "vscode": {
     "languageId": "julia"
    }
   },
   "outputs": [
    {
     "data": {
      "text/latex": [
       "\\begin{align*}\n",
       "\\mathrm{A_i} &\\xrightarrow{k_{eff}} \\mathrm{B_i} \\\\\n",
       "\\mathrm{A_i} &\\xrightarrow{\\delta} \\varnothing  \n",
       " \\end{align*}\n"
      ],
      "text/plain": [
       "L\"\\begin{align*}\n",
       "\\mathrm{A_i} &\\xrightarrow{k_{eff}} \\mathrm{B_i} \\\\\n",
       "\\mathrm{A_i} &\\xrightarrow{\\delta} \\varnothing  \n",
       " \\end{align*}\n",
       "\""
      ]
     },
     "metadata": {},
     "output_type": "display_data"
    }
   ],
   "source": [
    "eff_rxn = @reaction_network begin\n",
    "    (k_eff), Aᵢ --> Bᵢ\n",
    "    (δ), Aᵢ --> ∅\n",
    "end\n",
    "\n",
    "latexify(eff_rxn)"
   ]
  }
 ],
 "metadata": {
  "language_info": {
   "name": "python"
  },
  "orig_nbformat": 4
 },
 "nbformat": 4,
 "nbformat_minor": 2
}
