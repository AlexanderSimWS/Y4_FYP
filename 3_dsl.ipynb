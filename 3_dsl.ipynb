{
 "cells": [
  {
   "attachments": {},
   "cell_type": "markdown",
   "metadata": {},
   "source": [
    "# Domain Specific Language (DSL)\n",
    "## Contents\n",
    "1. Existing Biochemical Reaction DSL: [Catalyst.jl](https://github.com/SciML/Catalyst.jl/tree/master)\n",
    "2. Custom DSL for Project"
   ]
  },
  {
   "attachments": {},
   "cell_type": "markdown",
   "metadata": {},
   "source": [
    "## 1. Catalyst.jl\n",
    "We will now explore Catalyst.jl for specifiying biochemical reactions in human-readable format for conversion into an Ordinary Differential Equation (ODE) system."
   ]
  },
  {
   "cell_type": "code",
   "execution_count": null,
   "metadata": {},
   "outputs": [],
   "source": [
    "# Import Catalyst Package, Latexify (For viewing reactions)\n",
    "using Catalyst, Latexify"
   ]
  },
  {
   "attachments": {},
   "cell_type": "markdown",
   "metadata": {},
   "source": [
    "## Review of original transcription and translation reactions:\n",
    "If you recall our simple framework of reactions for transcription and translation are:\n",
    "\n",
    "*Transcription*:\n",
    "\\begin{align*}\n",
    "    g_i + \\pi &\\xrightleftharpoons[k_{1;i}^{-}]{k_{1;i}^{+}} X_i \\\\\n",
    "    X_i &\\xrightarrow{k^{\\theta}_{1;i}} g_i + \\pi + m_i \\\\\n",
    "    m_i &\\xrightarrow{\\delta_i} \\varnothing  \n",
    "\\end{align*}\n",
    "\n",
    "*Translation*:\n",
    "\\begin{align*}\n",
    "    m_i + \\rho &\\xrightleftharpoons[k_{2;i}^{-}]{k_{2;i}^{+}} \\Xi_i \\\\\n",
    "    \\Xi_i &\\xrightarrow{k^{\\theta}_{2;i}} m_i + \\rho + x_i \\\\\n",
    "    x^{\\omega}_i &\\xrightarrow{\\lambda} \\varnothing  \n",
    "\\end{align*}\n",
    "\n",
    "Let's look at what it looks like with the Catalyst.jl DSL!"
   ]
  },
  {
   "cell_type": "code",
   "execution_count": null,
   "metadata": {},
   "outputs": [],
   "source": [
    "\n",
    "node_1 = @reaction_network begin\n",
    "    (k1⁺₁, k1⁻₁), g₁ + p <--> X₁ # Gene 1 binds with RNA polymerase to form the intermediate complex in a reversible reaction\n",
    "    (k1θ₁), Xᵢ --> g₁ + p + m₁ # The intermediate complex reforms gene 1 and RNAP after transcription and mRNA 1 is formed\n",
    "    (δ₁), m₁ --> ∅ # mRNA 1 decays at a rate δ₁\n",
    "    (k2⁺₁, k2⁻₁), m₁ + r <--> Ξ₁ # mRNA 1 binds with a ribosome to form the intermediate complex in a reversible reaction\n",
    "    (k2θ₁), Ξ₁ --> m₁ + r + x₁ # The intermediate complex reforms mRNA 1 and the ribosome after translation and protein 1 is formed\n",
    "    (λ), x₁ --> ∅ # Protein 1 decays at a rate λ\n",
    "end\n",
    "\n",
    "latexify(node_1)"
   ]
  },
  {
   "attachments": {},
   "cell_type": "markdown",
   "metadata": {},
   "source": [
    "Look how close it looks to the original reactions! But if we want to apply our resource conservation framework, we'll have to implement new code to generate the ODE system and code a new DSL."
   ]
  },
  {
   "attachments": {},
   "cell_type": "markdown",
   "metadata": {},
   "source": [
    "## 2. Custom DSL For Project\n",
    "To implement the mathematical model in this project, a whole back-end \"engine\" was developed to generate the ODE system. A DSL front-end was also made to allow you to easily enter the original reactions. Let's start with the front-end."
   ]
  },
  {
   "cell_type": "code",
   "execution_count": 1,
   "metadata": {},
   "outputs": [
    {
     "data": {
      "text/plain": [
       "@TFinactivate (macro with 1 method)"
      ]
     },
     "metadata": {},
     "output_type": "display_data"
    }
   ],
   "source": [
    "# Import necessary files\n",
    "include(\"DSL_backend/dsl.jl\")\n"
   ]
  },
  {
   "attachments": {},
   "cell_type": "markdown",
   "metadata": {},
   "source": [
    "Now let's create a node! You can see that a different macro (@createnode) is used compared to Catalyst.jl. Also, another feature is that you can specify initial conditions very easily when you create a node unlike Catalyst! The reactions specified in the DSL are processed into a custom data structure (Node type) in the back-end."
   ]
  },
  {
   "cell_type": "code",
   "execution_count": 2,
   "metadata": {},
   "outputs": [
    {
     "data": {
      "text/plain": [
       "Node(:A, 4.0, 1.0, 5.0, 4.0, 1.0, 5.0, 0.04, 0.5)"
      ]
     },
     "metadata": {},
     "output_type": "display_data"
    }
   ],
   "source": [
    "# Create Node\n",
    "node_1 = @createnode begin\n",
    "    A ~ g = 0.5 # Node A with initial gene concentration of 0.5\n",
    "    [k1⁺₁ = 4, k1⁻₁ = 1], g₁ + p <--> C₁ # gene (g₁) binds with polymerase (p) to create the intermediate complex C₁\n",
    "    [k1θ₁ = 5], C --> g₁ + p + m₁ # the intermediate complex reforms the gene and polymerase while giving mRNA (m₁) after transcription\n",
    "    [k2⁺₁ = 4, k2⁻₁ = 1], m₁ + r <--> X₁ # m₁ binds with a ribosome (r) to create the intermediate complex X₁\n",
    "    [k2θ₁ = 5], X₁ --> m₁ + r + x₁ # The intermediate complex gives the protein (x₁) while returning the gene and ribosome\n",
    "    [d₁ = 0.04], m₁ --> ∅ # mRNA decays at a rate of d = 0.04, protein dilution rate is dealt with later\n",
    "end"
   ]
  },
  {
   "attachments": {},
   "cell_type": "markdown",
   "metadata": {},
   "source": [
    "Now to specify the edges. There are a few types: activation (@activate), repression (@repress), a combination of the two (@combi), TF activation (@TFactivate), TF inactivation (@TFinactivate) and annihilation (@annihilate). \n",
    "\n",
    "When creating these, you can conveniently specify which the nodes that these edges connect. (e.g. A -> B means that node A activates node B)\n",
    "\n",
    "A key feature is to the notation to specify the relations between nodes with an arrow notation to conveniently understand your system after you create it! (\"->\" is activation, \"-!\" is repression/inactivation and \"-X-\" is annihilation)."
   ]
  },
  {
   "cell_type": "code",
   "execution_count": 3,
   "metadata": {},
   "outputs": [
    {
     "ename": "LoadError",
     "evalue": "LoadError: UndefVarError: @annihilate not defined\nin expression starting at /Users/alexandersim/Documents/Code/Y4_FYP/3_dsl.ipynb:17",
     "output_type": "error",
     "traceback": [
      "LoadError: UndefVarError: @annihilate not defined\n",
      "in expression starting at /Users/alexandersim/Documents/Code/Y4_FYP/3_dsl.ipynb:17\n"
     ]
    }
   ],
   "source": [
    "edge_1 = @activate begin\n",
    "    A -> B\n",
    "    [k'⁺₂ = 100, k'⁻₂ = 1], g₂ + 3x₁ <--> c₂\n",
    "end\n",
    "\n",
    "edge_2 = @repress begin\n",
    "    B -! A\n",
    "    [k'⁺₂ = 100, k'⁻₂ = 1], g₁ + 3x₂ <--> c\n",
    "end\n",
    "\n",
    "edge_3 = @combi begin\n",
    "    A -> C, B -! C\n",
    "    [k⁺ₐ₃ = 100, k⁻ₐ₃ = 1], g₃ + x₁ <--> c₃\n",
    "    [k⁺ᵣ₃ = 100, k⁻ᵣ₃ = 1], g₃ + 3x₂ <--> c₃\n",
    "end\n",
    "\n",
    "edge_4 = @annihilate begin\n",
    "    A -X- B\n",
    "    [k⁺₁₂ = 1000, k⁻₁₂ = 0.1], m₁ + m₂ --> m∅\n",
    "end\n",
    "\n",
    "edge_5 = @TFactivate begin\n",
    "    I₁ -> A\n",
    "    [κ⁺₁ = 1000, κ⁺₂ = 1], x⁰₁ + 2 I₁ <--> x⁺₁\n",
    "end\n",
    "\n",
    "edge_5 = @TFinactivate begin\n",
    "    I₁ -! A\n",
    "    [κ⁺₁ = 1000, κ⁺₂ = 1], x⁰₁ + 2 I₁ <--> x⁺₁\n",
    "end"
   ]
  }
 ],
 "metadata": {
  "kernelspec": {
   "display_name": "Julia 1.8.2",
   "language": "julia",
   "name": "julia-1.8"
  },
  "language_info": {
   "file_extension": ".jl",
   "mimetype": "application/julia",
   "name": "julia",
   "version": "1.8.2"
  },
  "orig_nbformat": 4
 },
 "nbformat": 4,
 "nbformat_minor": 2
}
