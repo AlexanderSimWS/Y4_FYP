{
 "cells": [
  {
   "attachments": {},
   "cell_type": "markdown",
   "metadata": {},
   "source": [
    "# Network Visualisation in Matrix Form\n",
    "## Adjacency matrix form\n",
    "This allows for a high level view of the system. Each row acts on each column. Each matrix can be represented in graph format with nodes and edges.\n",
    "\n",
    "### Nodes\n",
    "In this example of 4 nodes, Node A activates B, B activates C, C represses D and D represses A. Additionally, A an C have an annihilation reaction.\n",
    "\n",
    "- 1 = Activation\n",
    "- 2 = Repression\n",
    "- 3 = Annihilation\n",
    "\n",
    "\\begin{bmatrix}\n",
    " & A & B & C & D \\\\\n",
    "A & 0 & 1 & 0 & 0 \\\\\n",
    "B & 0 & 0 & 1 & 0 \\\\\n",
    "C & 3 & 0 & 0 & 2 \\\\\n",
    "D & 2 & 0 & 0 & 0 \n",
    "\\end{bmatrix}\n",
    "\n",
    "### TFs\n",
    "If there are external inducers (for example $I_1$ and $I_2$) which activates and inactivates Nodes A and B respectively, this results in another matrix:\n",
    "\n",
    "\\begin{bmatrix}\n",
    "   & A & B & C & D \\\\\n",
    "  I_i & 1 & 0 & 0 & 0 \\\\\n",
    "  I_2 & 0 & 1 & 0 & 0 \n",
    "\\end{bmatrix} \n",
    "\n"
   ]
  }
 ],
 "metadata": {
  "kernelspec": {
   "display_name": "Julia 1.8.2",
   "language": "julia",
   "name": "julia-1.8"
  },
  "language_info": {
   "file_extension": ".jl",
   "mimetype": "application/julia",
   "name": "julia",
   "version": "1.8.2"
  },
  "orig_nbformat": 4
 },
 "nbformat": 4,
 "nbformat_minor": 2
}
